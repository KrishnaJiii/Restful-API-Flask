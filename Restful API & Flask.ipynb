{
 "cells": [
  {
   "cell_type": "markdown",
   "id": "a98cb72a-d131-4d65-a514-e4357d0b0708",
   "metadata": {},
   "source": [
    "## Restful API & Flask"
   ]
  },
  {
   "cell_type": "markdown",
   "id": "cc7956c1-4906-4afc-abc3-de574d44901c",
   "metadata": {},
   "source": [
    "Q1. What is a RESTful API?"
   ]
  },
  {
   "cell_type": "markdown",
   "id": "428ecb6a-c340-46bd-81ea-35e6b616945c",
   "metadata": {},
   "source": [
    "A1. A RESTful API (Representational State Transfer API) is a way for two systems (like a client and server) to communicate over the internet using standard HTTP methods like GET, POST, PUT, and DELETE. It follows specific rules to make communication simple and consistent. RESTful APIs work with resources (like users or products), each identified by a URL, and exchange data usually in JSON format."
   ]
  },
  {
   "cell_type": "markdown",
   "id": "37a17c3c-8838-4413-b709-0ebfc421a8b5",
   "metadata": {},
   "source": [
    "Q2. Explain the concept of API specification."
   ]
  },
  {
   "cell_type": "markdown",
   "id": "3cd5f6b7-971c-4634-adc9-3fb00f1a3e2e",
   "metadata": {},
   "source": [
    "A2. An API specification is a detailed document that explains how an API works. It defines the available endpoints, request and response formats, data types, and methods (GET, POST, etc.) so developers know how to use the API correctly."
   ]
  },
  {
   "cell_type": "markdown",
   "id": "1021b27d-80f7-48a0-8711-dcf4ab3dc609",
   "metadata": {},
   "source": [
    "Q3. What is Flask, and why is it popular for building APIs?"
   ]
  },
  {
   "cell_type": "markdown",
   "id": "94688ad0-f3aa-48ed-9337-95f324625e5f",
   "metadata": {},
   "source": [
    "A3. Flask is a lightweight Python web framework used to build web apps and APIs. It’s popular because it’s simple, flexible, easy to learn, and doesn’t require much setup. Developers like it for small to medium projects and for quickly creating RESTful APIs."
   ]
  },
  {
   "cell_type": "markdown",
   "id": "5f024c6c-7144-45e4-97b2-4e8ad3d4a9ea",
   "metadata": {},
   "source": [
    "Q4. What is routing in Flask?"
   ]
  },
  {
   "cell_type": "markdown",
   "id": "aca83bb0-3167-4237-8c58-e24bc8e8588c",
   "metadata": {},
   "source": [
    "A4. Routing in Flask means connecting a URL to a specific function. When a user visits that URL, Flask runs the linked function. It helps define what should happen for each web page or API endpoint."
   ]
  },
  {
   "cell_type": "markdown",
   "id": "15ba17b0-6529-4038-b6a3-469e4d7f44fb",
   "metadata": {},
   "source": [
    "Q5.  How do you create a simple Flask application?"
   ]
  },
  {
   "cell_type": "markdown",
   "id": "ecfbccf7-3e1c-4baa-b7be-79f71527c991",
   "metadata": {},
   "source": [
    "A5. To create a simple Flask application, first install Flask using pip install flask. Then, create a Python file and import Flask. Define the app using Flask(__name__), set a route using @app.route('/'), and create a function that returns a response. Finally, run the app using app.run(). This sets up a basic web server on your local machine."
   ]
  },
  {
   "cell_type": "markdown",
   "id": "51c743ed-1d18-423f-8f35-cb224da62f35",
   "metadata": {},
   "source": [
    "Q6. What are HTTP methods used in RESTful APIs?"
   ]
  },
  {
   "cell_type": "markdown",
   "id": "9e22e631-565b-4baa-a2fb-1301ee5f5238",
   "metadata": {},
   "source": [
    "A6. The main HTTP methods used in RESTful APIs are GET, POST, PUT, and DELETE. GET is used to fetch data, POST to add new data, PUT to update existing data, and DELETE to remove data. These methods help perform different actions on resources in a clear and organized way."
   ]
  },
  {
   "cell_type": "markdown",
   "id": "d58567a4-2465-4def-bb2a-8dfd1713f1de",
   "metadata": {},
   "source": [
    "Q7. What is the purpose of the @app.route() decorator in Flask?"
   ]
  },
  {
   "cell_type": "markdown",
   "id": "e05314f3-9313-4ad8-804b-65360bd37cb4",
   "metadata": {},
   "source": [
    "A7. The @app.route() decorator in Flask is used to link a URL path to a specific function. When someone visits that URL, Flask runs the connected function. It helps define different pages or API endpoints in the app."
   ]
  },
  {
   "cell_type": "markdown",
   "id": "c93b5905-25d2-49bb-8881-855b15446d21",
   "metadata": {},
   "source": [
    "Q8. What is the difference between GET and POST HTTP methods?"
   ]
  },
  {
   "cell_type": "markdown",
   "id": "2d59f311-bc94-41d8-b88f-400dddd0cd20",
   "metadata": {},
   "source": [
    "A8. GET is used to request and fetch data from the server without making any changes. POST is used to send data to the server, usually to create or submit something new. GET adds data in the URL, while POST sends it in the request body."
   ]
  },
  {
   "cell_type": "markdown",
   "id": "670ae89f-41f9-4a9d-9e85-d7489c085a2b",
   "metadata": {},
   "source": [
    "Q9. How do you handle errors in Flask APIs?"
   ]
  },
  {
   "cell_type": "markdown",
   "id": "8e035479-ce96-48cc-94e9-1b22be940767",
   "metadata": {},
   "source": [
    "A9. In Flask APIs, errors are handled using error handlers or by checking conditions in your code. You can use @app.errorhandler() to catch specific errors like 404 or 500 and return custom messages. You can also use try-except blocks for handling exceptions safely."
   ]
  },
  {
   "cell_type": "markdown",
   "id": "3dd393d7-3b1a-4d64-9f4d-2f3ac7ac5f48",
   "metadata": {},
   "source": [
    "Q10. How do you connect Flask to a SQL database?"
   ]
  },
  {
   "cell_type": "markdown",
   "id": "49ffbb8c-2ca9-44e9-9b78-b642d20d136d",
   "metadata": {},
   "source": [
    "A10. lask connects to a SQL database using libraries like Flask-SQLAlchemy. You install it using pip install flask-sqlalchemy, set the database URI in the Flask config, and create models for tables. Then, you can use Python code to add, read, update, or delete data from the database."
   ]
  },
  {
   "cell_type": "markdown",
   "id": "2bd8b02b-62af-4748-84e7-66788a998c7c",
   "metadata": {},
   "source": [
    "Q11. What is the role of Flask-SQLAlchemy?"
   ]
  },
  {
   "cell_type": "markdown",
   "id": "95cce879-f4f0-4597-877a-e3adee73d5ed",
   "metadata": {},
   "source": [
    "A11. Flask-SQLAlchemy is an extension that makes it easy to work with SQL databases in Flask. It provides a simple way to define tables as Python classes (called models) and interact with the database using Python code instead of SQL queries."
   ]
  },
  {
   "cell_type": "markdown",
   "id": "f94af38c-d980-48b2-80ba-53c37d226943",
   "metadata": {},
   "source": [
    "Q12. What are Flask blueprints, and how are they useful?"
   ]
  },
  {
   "cell_type": "markdown",
   "id": "892541ac-0ed5-4cb3-9aa0-bb68905f3db5",
   "metadata": {},
   "source": [
    "A12. Flask blueprints are a way to organize your Flask app into smaller, reusable parts. They let you split routes and logic into different files, which makes large apps easier to manage and maintain. Blueprints help keep code clean and modular."
   ]
  },
  {
   "cell_type": "markdown",
   "id": "68774d33-192c-4530-910b-9a9c6c168a4f",
   "metadata": {},
   "source": [
    "Q13.What is the purpose of Flask's request object?"
   ]
  },
  {
   "cell_type": "markdown",
   "id": "ee21f592-19c1-4aac-8080-267248b305c2",
   "metadata": {},
   "source": [
    "A13. Flask’s request object is used to access data sent by the client, like form data, JSON, headers, and URL parameters. It helps you read input from the user when they send a request to your API or web app."
   ]
  },
  {
   "cell_type": "markdown",
   "id": "03eeb30b-0b96-4c27-a850-fa7b04f48fb1",
   "metadata": {},
   "source": [
    "Q14.How do you create a RESTful API endpoint using Flask?"
   ]
  },
  {
   "cell_type": "markdown",
   "id": "ebcc7e87-0a6e-4f47-92e7-4b721e212b56",
   "metadata": {},
   "source": [
    "A14. To create a RESTful API endpoint in Flask, define a route using @app.route() and set the method like GET or POST. Inside the function, write logic to handle the request and return a response, usually in JSON format using jsonify()."
   ]
  },
  {
   "cell_type": "markdown",
   "id": "9614ba06-67c6-4105-9b15-7e2ca6bd0eb7",
   "metadata": {},
   "source": [
    "Q15. What is the purpose of Flask's jsonify() function?"
   ]
  },
  {
   "cell_type": "markdown",
   "id": "8a513e67-632f-456c-ab03-b0ff15327672",
   "metadata": {},
   "source": [
    "A15. Flask’s jsonify() function is used to convert Python data (like dictionaries or lists) into JSON format. It helps send structured responses from your API that clients can easily read and use."
   ]
  },
  {
   "cell_type": "markdown",
   "id": "99349f98-241d-4406-ae64-e793fd6eeedd",
   "metadata": {},
   "source": [
    "Q16. Explain Flask’s url_for() function."
   ]
  },
  {
   "cell_type": "markdown",
   "id": "1e7964bf-e428-4f97-b6e0-550e14341779",
   "metadata": {},
   "source": [
    "A16. Flask’s url_for() function generates the URL for a specific function or route by its name. It helps avoid hardcoding URLs and makes the app easier to maintain, especially when routes change."
   ]
  },
  {
   "cell_type": "markdown",
   "id": "3f3d6562-bdf0-4801-bdbc-68fbbff168d7",
   "metadata": {},
   "source": [
    "Q17.How does Flask handle static files (CSS, JavaScript, etc.)?"
   ]
  },
  {
   "cell_type": "markdown",
   "id": "75146fba-3b37-43b2-adc3-ea5a01813d9c",
   "metadata": {},
   "source": [
    "A17. Flask handles static files by placing them in a folder named static. You can access them in your HTML using /static/filename. Flask automatically serves these files when requested by the browser."
   ]
  },
  {
   "cell_type": "markdown",
   "id": "b9964d29-6c54-4f29-96f2-31e3c46e3e37",
   "metadata": {},
   "source": [
    "Q18. What is an API specification, and how does it help in building a Flask API?"
   ]
  },
  {
   "cell_type": "markdown",
   "id": "c87855b8-9fb9-4ae0-8eac-28f395ea6549",
   "metadata": {},
   "source": [
    "A18. An API specification defines how the API should work—listing endpoints, methods, inputs, and outputs. It acts like a blueprint, helping developers understand how to build, use, and test the Flask API correctly and consistently."
   ]
  },
  {
   "cell_type": "markdown",
   "id": "9659f1e3-e207-467d-ab95-e7fb4f9b56b4",
   "metadata": {},
   "source": [
    "Q19. What are HTTP status codes, and why are they important in a Flask API?"
   ]
  },
  {
   "cell_type": "markdown",
   "id": "c7dc612b-bceb-4c05-afbf-5994148776eb",
   "metadata": {},
   "source": [
    "A19. HTTP status codes are 3-digit numbers sent with responses to show the result of a request. For example, 200 means success, 404 means not found, and 500 means server error. In Flask APIs, they help clients understand if the request worked or failed."
   ]
  },
  {
   "cell_type": "markdown",
   "id": "c27aa233-edce-47c5-a2dc-bf26d9884b8a",
   "metadata": {},
   "source": [
    "Q20. How do you handle POST requests in Flask?"
   ]
  },
  {
   "cell_type": "markdown",
   "id": "99e4425e-b918-4ad4-b07a-c8cb1e392347",
   "metadata": {},
   "source": [
    "A20. o handle POST requests in Flask, use @app.route() with methods=['POST']. Inside the function, get data using request.form or request.json, then process it and return a response using jsonify() or a message."
   ]
  },
  {
   "cell_type": "markdown",
   "id": "7e95f168-32a4-4f06-921e-904c901470db",
   "metadata": {},
   "source": [
    "Q21. How would you secure a Flask API?"
   ]
  },
  {
   "cell_type": "markdown",
   "id": "b54a57fb-a547-4544-a6dd-7709bd7c85ab",
   "metadata": {},
   "source": [
    "A21. To secure a Flask API, you can use methods like API keys, token-based authentication (like JWT), input validation, and HTTPS. You should also handle errors properly and limit access to sensitive routes."
   ]
  },
  {
   "cell_type": "markdown",
   "id": "a5087564-a928-4d69-89cb-854c92b9eb67",
   "metadata": {},
   "source": [
    "Q22. What is the significance of the Flask-RESTful extension?"
   ]
  },
  {
   "cell_type": "markdown",
   "id": "8ee48ebf-ee8e-40eb-ad21-6c92b4e747f9",
   "metadata": {},
   "source": [
    "A22. Flask-RESTful is an extension that makes building REST APIs easier in Flask. It lets you create APIs using classes and methods, organizes code better, and handles common tasks like routing and request parsing more cleanly."
   ]
  },
  {
   "cell_type": "markdown",
   "id": "7fa2922e-08a2-469a-b8cb-c60dc7189919",
   "metadata": {},
   "source": [
    "Q23. What is the role of Flask’s session object?"
   ]
  },
  {
   "cell_type": "markdown",
   "id": "059a60ee-228f-4ff8-a583-0399f9b4e13f",
   "metadata": {},
   "source": [
    "A23. Flask’s session object is used to store data across requests for a specific user, like login info. It helps remember user data between pages using cookies, making it useful for authentication and user sessions."
   ]
  },
  {
   "cell_type": "markdown",
   "id": "e3fe8f02-a727-4843-abed-9304558bfd79",
   "metadata": {},
   "source": [
    "## Practical"
   ]
  },
  {
   "cell_type": "code",
   "execution_count": 1,
   "id": "3c757eff-ec5a-4024-ad1d-f6e4b6117cea",
   "metadata": {},
   "outputs": [
    {
     "name": "stdout",
     "output_type": "stream",
     "text": [
      "Requirement already satisfied: flask in h:\\datascience\\anaconda\\conda\\lib\\site-packages (3.0.3)\n",
      "Requirement already satisfied: Werkzeug>=3.0.0 in h:\\datascience\\anaconda\\conda\\lib\\site-packages (from flask) (3.0.3)\n",
      "Requirement already satisfied: Jinja2>=3.1.2 in h:\\datascience\\anaconda\\conda\\lib\\site-packages (from flask) (3.1.4)\n",
      "Requirement already satisfied: itsdangerous>=2.1.2 in h:\\datascience\\anaconda\\conda\\lib\\site-packages (from flask) (2.2.0)\n",
      "Requirement already satisfied: click>=8.1.3 in h:\\datascience\\anaconda\\conda\\lib\\site-packages (from flask) (8.1.7)\n",
      "Requirement already satisfied: blinker>=1.6.2 in h:\\datascience\\anaconda\\conda\\lib\\site-packages (from flask) (1.6.2)\n",
      "Requirement already satisfied: colorama in h:\\datascience\\anaconda\\conda\\lib\\site-packages (from click>=8.1.3->flask) (0.4.6)\n",
      "Requirement already satisfied: MarkupSafe>=2.0 in h:\\datascience\\anaconda\\conda\\lib\\site-packages (from Jinja2>=3.1.2->flask) (2.1.3)\n",
      "Note: you may need to restart the kernel to use updated packages.\n"
     ]
    }
   ],
   "source": [
    "pip install flask"
   ]
  },
  {
   "cell_type": "code",
   "execution_count": 3,
   "id": "ca5fd3e1-6f61-4839-824d-2f3bc91e93b5",
   "metadata": {},
   "outputs": [
    {
     "name": "stdout",
     "output_type": "stream",
     "text": [
      "Requirement already satisfied: nest_asyncio in h:\\datascience\\anaconda\\conda\\lib\\site-packages (1.6.0)\n"
     ]
    }
   ],
   "source": [
    "!pip install nest_asyncio"
   ]
  },
  {
   "cell_type": "code",
   "execution_count": 2,
   "id": "8e641687-79df-420e-a83c-7651a775d01f",
   "metadata": {},
   "outputs": [
    {
     "name": "stdout",
     "output_type": "stream",
     "text": [
      " * Serving Flask app '__main__'\n",
      " * Debug mode: on\n"
     ]
    },
    {
     "name": "stderr",
     "output_type": "stream",
     "text": [
      "WARNING: This is a development server. Do not use it in a production deployment. Use a production WSGI server instead.\n",
      " * Running on http://127.0.0.1:5000\n",
      "Press CTRL+C to quit\n",
      " * Restarting with watchdog (windowsapi)\n"
     ]
    },
    {
     "ename": "SystemExit",
     "evalue": "1",
     "output_type": "error",
     "traceback": [
      "An exception has occurred, use %tb to see the full traceback.\n",
      "\u001b[1;31mSystemExit\u001b[0m\u001b[1;31m:\u001b[0m 1\n"
     ]
    },
    {
     "name": "stderr",
     "output_type": "stream",
     "text": [
      "H:\\datascience\\Anaconda\\conda\\Lib\\site-packages\\IPython\\core\\interactiveshell.py:3585: UserWarning: To exit: use 'exit', 'quit', or Ctrl-D.\n",
      "  warn(\"To exit: use 'exit', 'quit', or Ctrl-D.\", stacklevel=1)\n"
     ]
    }
   ],
   "source": [
    "# Q1. How do you create a basic Flask application?\n",
    "\n",
    "from flask import Flask\n",
    "\n",
    "app = Flask(__name__)\n",
    "@app.route('/')\n",
    "def home():\n",
    "    return \"Hello, Flask \"\n",
    "\n",
    "if __name__ == \"__main__\":\n",
    "    app.run(debug = True)"
   ]
  },
  {
   "cell_type": "code",
   "execution_count": null,
   "id": "e813cef6-a038-4253-9a17-86eeeb9fb750",
   "metadata": {},
   "outputs": [
    {
     "name": "stdout",
     "output_type": "stream",
     "text": [
      " * Serving Flask app '__main__'\n",
      " * Debug mode: on\n"
     ]
    },
    {
     "name": "stderr",
     "output_type": "stream",
     "text": [
      "WARNING: This is a development server. Do not use it in a production deployment. Use a production WSGI server instead.\n",
      " * Running on http://127.0.0.1:5001\n",
      "Press CTRL+C to quit\n"
     ]
    }
   ],
   "source": [
    "# Q2. How do you serve static files like images or CSS in Flask?\n",
    "\n",
    "from flask import Flask\n",
    "import nest_asyncio\n",
    "nest_asyncio.apply()\n",
    "app = Flask(__name__)\n",
    "@app.route('/')\n",
    "def home():\n",
    "    html = '''\n",
    "    <!DOCTYPE html>\n",
    "    <html>\n",
    "    <head>\n",
    "        <title>Static Example</title>\n",
    "        <style>\n",
    "            body { background-color: lightblue; font-family: Arial; }\n",
    "            h1 { color: darkblue; }\n",
    "        </style>\n",
    "    </head>\n",
    "    <body>\n",
    "        <h1>Hello with CSS Style!</h1>\n",
    "        <img src=\"https://via.placeholder.com/200\" alt=\"Sample Image\">\n",
    "    </body>\n",
    "    </html>\n",
    "    '''\n",
    "    return html\n",
    "app.run(port=5001, debug=True, use_reloader=False)"
   ]
  },
  {
   "cell_type": "code",
   "execution_count": null,
   "id": "2df84fdb-42cc-46f8-9662-2176280ef46e",
   "metadata": {},
   "outputs": [],
   "source": [
    "# Q3. How do you define different routes with different HTTP methods in Flask?\n",
    "\n",
    "from flask import Flask, request\n",
    "import nest_asyncio\n",
    "nest_asyncio.apply()\n",
    "app = Flask(__name__)\n",
    "@app.route('/get-example', methods=['GET'])\n",
    "def get_example():\n",
    "    return \"This is a GET request\"\n",
    "@app.route('/post-example', methods=['POST'])\n",
    "def post_example():\n",
    "    data = request.form.get('name', 'No name sent')\n",
    "    return f\"POST request received with name: {data}\"\n",
    "app.run(port=5002, debug=True, use_reloader=False)"
   ]
  },
  {
   "cell_type": "code",
   "execution_count": null,
   "id": "7ba8c673-2eb0-4804-9f22-1c34c31f9f8e",
   "metadata": {},
   "outputs": [],
   "source": [
    "# Q4. How do you render HTML templates in Flask?\n",
    "\n",
    "from flask import Flask, render_template_string\n",
    "import nest_asyncio\n",
    "nest_asyncio.apply()\n",
    "app = Flask(__name__)\n",
    "@app.route('/')\n",
    "def home():\n",
    "    html = '''\n",
    "    <!DOCTYPE html>\n",
    "    <html>\n",
    "    <head>\n",
    "        <title>Flask Template</title>\n",
    "    </head>\n",
    "    <body>\n",
    "        <h1>Hello from Rendered Template!</h1>\n",
    "    </body>\n",
    "    </html>\n",
    "    '''\n",
    "    return render_template_string(html)\n",
    "app.run(port=5003, debug=True, use_reloader=False)"
   ]
  },
  {
   "cell_type": "code",
   "execution_count": null,
   "id": "b383389a-3dd9-49d0-9824-aee5a6ef1aa1",
   "metadata": {},
   "outputs": [],
   "source": [
    "# Q5. How can you generate URLs for routes in Flask using url_for?\n",
    "\n",
    "from flask import Flask, url_for\n",
    "import nest_asyncio\n",
    "nest_asyncio.apply()\n",
    "app = Flask(__name__)\n",
    "@app.route('/')\n",
    "def home():\n",
    "    about_url = url_for('about')\n",
    "    return f'Visit the About page here: <a href=\"{about_url}\">{about_url}</a>'\n",
    "@app.route('/about')\n",
    "def about():\n",
    "    return 'This is the About Page'\n",
    "app.run(port=5004, debug=True, use_reloader=False)"
   ]
  },
  {
   "cell_type": "code",
   "execution_count": null,
   "id": "5643b4b7-3419-47bf-be49-5828f0d55bb7",
   "metadata": {},
   "outputs": [],
   "source": [
    "# Q6. How do you handle forms in Flask?\n",
    "\n",
    "from flask import Flask, request, render_template_string\n",
    "import nest_asyncio\n",
    "nest_asyncio.apply()\n",
    "app = Flask(__name__)\n",
    "@app.route('/', methods=['GET', 'POST'])\n",
    "def form():\n",
    "    if request.method == 'POST':\n",
    "        name = request.form.get('name')\n",
    "        return f\"<h3>Hello, {name}!</h3>\"\n",
    "    html = '''\n",
    "    <form method=\"POST\">\n",
    "        Enter your name: <input type=\"text\" name=\"name\">\n",
    "        <input type=\"submit\" value=\"Submit\">\n",
    "    </form>\n",
    "    '''\n",
    "    return render_template_string(html)\n",
    "app.run(port=5005, debug=True, use_reloader=False)"
   ]
  },
  {
   "cell_type": "code",
   "execution_count": null,
   "id": "d2517007-d437-4d2a-b7ea-3fc065bc757d",
   "metadata": {},
   "outputs": [],
   "source": [
    "# Q7. How can you validate form data in Flask?\n",
    "\n",
    "from flask import Flask, request, render_template_string\n",
    "import nest_asyncio\n",
    "nest_asyncio.apply()\n",
    "app = Flask(__name__)\n",
    "@app.route('/', methods=['GET', 'POST'])\n",
    "def form():\n",
    "    message = \"\"\n",
    "    if request.method == 'POST':\n",
    "        name = request.form.get('name')\n",
    "        if not name:\n",
    "            message = \"<p style='color:red;'>Name is required!</p>\"\n",
    "        else:\n",
    "            message = f\"<p>Hello, {name}!</p>\"\n",
    "    html = '''\n",
    "    <form method=\"POST\">\n",
    "        Enter your name: <input type=\"text\" name=\"name\">\n",
    "        <input type=\"submit\" value=\"Submit\">\n",
    "    </form>\n",
    "    ''' + message\n",
    "    return render_template_string(html)\n",
    "app.run(port=5006, debug=True, use_reloader=False)"
   ]
  },
  {
   "cell_type": "code",
   "execution_count": null,
   "id": "e26aed3e-f47e-4165-bd82-10fdef1a57dc",
   "metadata": {},
   "outputs": [],
   "source": [
    "# Q8. How do you manage sessions in Flask?\n",
    "\n",
    "from flask import Flask, session, redirect, url_for, request, render_template_string\n",
    "import nest_asyncio\n",
    "nest_asyncio.apply()\n",
    "app = Flask(__name__)\n",
    "app.secret_key = 'your_secret_key'\n",
    "@app.route('/', methods=['GET', 'POST'])\n",
    "def login():\n",
    "    if request.method == 'POST':\n",
    "        username = request.form.get('username')\n",
    "        session['user'] = username\n",
    "        return redirect(url_for('profile'))\n",
    "    html = '''\n",
    "    <form method=\"POST\">\n",
    "        Username: <input type=\"text\" name=\"username\">\n",
    "        <input type=\"submit\" value=\"Login\">\n",
    "    </form>\n",
    "    '''\n",
    "    return render_template_string(html)\n",
    "@app.route('/profile')\n",
    "def profile():\n",
    "    if 'user' in session:\n",
    "        return f\"<h3>Welcome, {session['user']}!</h3>\"\n",
    "    return redirect(url_for('login'))\n",
    "app.run(port=5007, debug=True, use_reloader=False)"
   ]
  },
  {
   "cell_type": "code",
   "execution_count": null,
   "id": "54ab2daa-21ab-4c22-b67c-50bf09442ed5",
   "metadata": {},
   "outputs": [],
   "source": [
    "# Q9. How do you redirect to a different route in Flask?\n",
    "\n",
    "from flask import Flask, redirect, url_for\n",
    "import nest_asyncio\n",
    "nest_asyncio.apply()\n",
    "app = Flask(__name__)\n",
    "@app.route('/')\n",
    "def home():\n",
    "    return '<h3>Welcome! You will be redirected to the About page in 3 seconds...</h3><meta http-equiv=\"refresh\" content=\"3;url=/about\">'\n",
    "@app.route('/about')\n",
    "def about():\n",
    "    return '<h3>This is the About Page</h3>'\n",
    "@app.route('/go-to-about')\n",
    "def go_to_about():\n",
    "    return redirect(url_for('about'))\n",
    "app.run(port=5008, debug=True, use_reloader=False)"
   ]
  },
  {
   "cell_type": "code",
   "execution_count": null,
   "id": "db362ac9-f70b-435c-8bb7-a26be7488d27",
   "metadata": {},
   "outputs": [],
   "source": [
    "# Q10. How do you handle errors in Flask (e.g., 404)?\n",
    "\n",
    "from flask import Flask\n",
    "import nest_asyncio\n",
    "nest_asyncio.apply()\n",
    "app = Flask(__name__)\n",
    "@app.route('/')\n",
    "def home():\n",
    "    return '<h3>Welcome to the Home Page!</h3>'\n",
    "@app.errorhandler(404)\n",
    "def page_not_found(e):\n",
    "    return '<h3>404 Error: Page not found</h3>', 404\n",
    "app.run(port=5009, debug=True, use_reloader=False)"
   ]
  },
  {
   "cell_type": "code",
   "execution_count": null,
   "id": "855051d5-5d00-4172-9d48-3770780294c4",
   "metadata": {},
   "outputs": [],
   "source": [
    "# Q11. How do you structure a Flask app using Blueprints?\n",
    "\n",
    "from flask import Flask, Blueprint\n",
    "import nest_asyncio\n",
    "nest_asyncio.apply()\n",
    "simple_bp = Blueprint('simple_bp', __name__)\n",
    "@simple_bp.route('/hello')\n",
    "def hello():\n",
    "    return \"<h3>Hello from Blueprint!</h3>\"\n",
    "app = Flask(__name__)\n",
    "app.register_blueprint(simple_bp, url_prefix='/bp')\n",
    "@app.route('/')\n",
    "def home():\n",
    "    return \"<h3>Home Page - Main App</h3>\"\n",
    "app.run(port=5010, debug=True, use_reloader=False)"
   ]
  },
  {
   "cell_type": "code",
   "execution_count": null,
   "id": "079a12d8-724e-4266-9241-8eb4373aec16",
   "metadata": {},
   "outputs": [],
   "source": [
    "# Q12. How do you define a custom Jinja filter in Flask?\n",
    "\n",
    "from flask import Flask, render_template_string\n",
    "import nest_asyncio\n",
    "nest_asyncio.apply()\n",
    "app = Flask(__name__)\n",
    "def reverse_string(s):\n",
    "    return s[::-1]\n",
    "app.jinja_env.filters['reverse'] = reverse_string\n",
    "@app.route('/')\n",
    "def home():\n",
    "    html = '''\n",
    "    <!DOCTYPE html>\n",
    "    <html>\n",
    "    <body>\n",
    "        <h3>Original: Krishna</h3>\n",
    "        <h3>Reversed: {{ 'Krishna' | reverse }}</h3>\n",
    "    </body>\n",
    "    </html>\n",
    "    '''\n",
    "    return render_template_string(html)\n",
    "app.run(port=5011, debug=True, use_reloader=False)"
   ]
  },
  {
   "cell_type": "code",
   "execution_count": null,
   "id": "7cf1c517-f2af-4120-b828-7641202eaa08",
   "metadata": {},
   "outputs": [],
   "source": [
    "# Q13. How can you redirect with query parameters in Flask?\n",
    "\n",
    "from flask import Flask, redirect, request, url_for\n",
    "import nest_asyncio\n",
    "nest_asyncio.apply()\n",
    "app = Flask(__name__)\n",
    "@app.route('/')\n",
    "def home():\n",
    "    return redirect(url_for('greet', name='Krishna'))\n",
    "@app.route('/greet')\n",
    "def greet():\n",
    "    name = request.args.get('name', 'Guest')\n",
    "    return f\"<h3>Hello, {name}!</h3>\"\n",
    "app.run(port=5012, debug=True, use_reloader=False)"
   ]
  },
  {
   "cell_type": "code",
   "execution_count": null,
   "id": "691c6376-de41-4c81-9c27-7b6ed6faddaa",
   "metadata": {},
   "outputs": [],
   "source": [
    "# Q14. How do you return JSON responses in Flask?\n",
    "\n",
    "from flask import Flask, jsonify\n",
    "import nest_asyncio\n",
    "nest_asyncio.apply()\n",
    "app = Flask(__name__)\n",
    "@app.route('/api/data')\n",
    "def get_data():\n",
    "    data = {\n",
    "        'name': 'Krishna',\n",
    "        'course': 'BCA',\n",
    "        'year': 2025\n",
    "    }\n",
    "    return jsonify(data)\n",
    "app.run(port=5013, debug=True, use_reloader=False)"
   ]
  },
  {
   "cell_type": "code",
   "execution_count": null,
   "id": "90a5578e-6eb7-4eec-b4eb-2f93b5e12148",
   "metadata": {},
   "outputs": [],
   "source": [
    "# Q15. How do you capture URL parameters in Flask?\n",
    "\n",
    "from flask import Flask\n",
    "import nest_asyncio\n",
    "nest_asyncio.apply()\n",
    "app = Flask(__name__)\n",
    "@app.route('/user/<username>')\n",
    "def show_user(username):\n",
    "    return f\"<h3>Hello, {username}!</h3>\"\n",
    "app.run(port=5014, debug=True, use_reloader=False)"
   ]
  }
 ],
 "metadata": {
  "kernelspec": {
   "display_name": "Python 3 (ipykernel)",
   "language": "python",
   "name": "python3"
  },
  "language_info": {
   "codemirror_mode": {
    "name": "ipython",
    "version": 3
   },
   "file_extension": ".py",
   "mimetype": "text/x-python",
   "name": "python",
   "nbconvert_exporter": "python",
   "pygments_lexer": "ipython3",
   "version": "3.12.7"
  }
 },
 "nbformat": 4,
 "nbformat_minor": 5
}
